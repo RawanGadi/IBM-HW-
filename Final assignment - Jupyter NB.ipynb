{
 "cells": [
  {
   "cell_type": "markdown",
   "metadata": {
    "collapsed": true
   },
   "source": [
    "# My Jupyter Notebook on IBM Watson Studio"
   ]
  },
  {
   "cell_type": "markdown",
   "metadata": {},
   "source": [
    "\"**My name is Rawan Gadi**\"\n",
    "\n",
    "\"I'm a public health researcher and educator. I'm aiming to be a data scientist\" "
   ]
  },
  {
   "cell_type": "markdown",
   "metadata": {},
   "source": [
    "\"*I'm intersted in data science because I want use the powerful tools availabe such AI/ML in improving healthcare system, through using data and create insights to make better decisions*\" "
   ]
  },
  {
   "cell_type": "markdown",
   "metadata": {},
   "source": [
    "### In the following cell, I will write python code to print \"Data science is the sexiest job in 21 century\""
   ]
  },
  {
   "cell_type": "code",
   "execution_count": 11,
   "metadata": {},
   "outputs": [
    {
     "name": "stdout",
     "output_type": "stream",
     "text": [
      "Data science is the sexiest job in 21 century\n"
     ]
    }
   ],
   "source": [
    "print (\"Data science is the sexiest job in 21 century\")"
   ]
  },
  {
   "cell_type": "markdown",
   "metadata": {},
   "source": [
    "\"***The most intersting specialities in public health are:***\n",
    "\n",
    " - Statistics. \n",
    "\n",
    "\n",
    " - Epidemiology. \n",
    "\n",
    "\n",
    " - Mental health\"\n",
    " \n",
    " ___\n",
    " \n",
    " \n",
    "<a href=\"http://github.com/RawanGadi\" target=\"_blank\" rel=\"noopener noreferrer\">link text</a>\n",
    "\n",
    "\n",
    "\n",
    "\n"
   ]
  }
 ],
 "metadata": {
  "kernelspec": {
   "display_name": "Python 3.10",
   "language": "python",
   "name": "python3"
  },
  "language_info": {
   "codemirror_mode": {
    "name": "ipython",
    "version": 3
   },
   "file_extension": ".py",
   "mimetype": "text/x-python",
   "name": "python",
   "nbconvert_exporter": "python",
   "pygments_lexer": "ipython3",
   "version": "3.10.6"
  }
 },
 "nbformat": 4,
 "nbformat_minor": 1
}
